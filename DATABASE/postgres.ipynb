{
 "cells": [
  {
   "cell_type": "code",
   "execution_count": 1,
   "metadata": {},
   "outputs": [],
   "source": [
    "import psycopg2\n",
    "import pandas as pd\n",
    "import matplotlib.pyplot as plt\n",
    "from flask import Flask, request\n",
    "\n",
    "# CONEXÃO COM POSTGRES(database -> imobiliaria)\n",
    "\n",
    "con = psycopg2.connect(host = 'localhost', database = 'imobiliaria', user = 'postgres', password = '5432')\n",
    "cur = con.cursor()"
   ]
  },
  {
   "cell_type": "code",
   "execution_count": 2,
   "metadata": {},
   "outputs": [],
   "source": [
    "# LENDO EXCEL, CRIANDO CABEÇALHO\n",
    "\n",
    "df = pd.read_excel('HousesInfo.xlsx')\n",
    "df.columns = ['qte_banheiros', 'qte_quartos', 'area', 'cep', 'preco']"
   ]
  },
  {
   "cell_type": "code",
   "execution_count": 3,
   "metadata": {},
   "outputs": [
    {
     "name": "stdout",
     "output_type": "stream",
     "text": [
      "[ 4  3  5  6  2  7  1  8 10]\n",
      "[3 4 5 datetime.datetime(2020, 5, 3, 0, 0)\n",
      " datetime.datetime(2020, 5, 6, 0, 0) datetime.datetime(2020, 5, 4, 0, 0) 2\n",
      " datetime.datetime(2020, 5, 5, 0, 0) 1 datetime.datetime(2020, 5, 2, 0, 0)\n",
      " datetime.datetime(2020, 5, 1, 0, 0) 7 6 '3.25']\n",
      "[3343 3923 4022 4116 4581 2544 5524 4229 3550 4829 3428 5462 4021 4406\n",
      " 3721 3710 2748 4190 4143 5963 2685 5677 4031 4954 4180 4464 2520 1802\n",
      " 2873 3260 3893 3932 2792 4228 2146 9583 7627 2153 2014 1928 2134 2504\n",
      " 2462 3904 2034 1594 2957 1894 2128 3267 2836 2174 1508 2288 1709 1776\n",
      " 4560 2686 1201 2850 3768 2750 2851 1254 3740 3233 2256 2154 2116 1600\n",
      " 2172 3316 7841 1200 2464 1845 1184 3060 2733 1706 4886 3029 2620 2929\n",
      " 3328 2250 1499  960 2671 3747 1675 3115 3426 1288 4042 1005 2726 1937\n",
      " 2445 1826 1084 3706 4874 3277 4289 3778 1613 1382 3300 1771 1915 1680\n",
      " 1696 2150 1611 4200 2319 3885 7000 6000  915 2965 1825 3100 1235 2248\n",
      " 3265  839 2441 2800  800 1171 1935 1819 1950 1303 2614 2141 1655 2225\n",
      " 2125 4245 4038 3489 1808 1056 1881 1132 1372 1560 1306 1736 2900 1768\n",
      " 1008 1580 3548 2508 1909 3467 3172 4838 2840 5050 1299 1065  701 1313\n",
      " 2078 1524 1789 1120 2185 1253  766 2879 3492 3485 1634 2020 1364 2300\n",
      "  951 1490  834  805  994 1665 1581 1652 1772 2361 2724 1110 1016 1413\n",
      " 3743 1864 3122 1678 1134 1602 3651 5000 1368 1426 1447 2304 1716 1796\n",
      " 2844 1876 1475 3136 3188 3701 4749 4014 4311 2809 3635 3849 3773 3214\n",
      " 3677 3200 3270 4074 2951 3500 2622 3034 3375 3340 3075 3013 3000 3141\n",
      " 2650 3054 1627  840 2295 5900 1512 3149 2100 2530 2287 1503 1209 2460\n",
      " 3514 2257 2870 1400 2533 3010 1321 1905 2825 2579 2893 3099 3307 2367\n",
      " 3972 3816 1152 1800 2036 1344 1100 1248 1380 2788 3834 3767 3565 3615\n",
      " 3572 2570 2285 2691 2490 2160 2326 2260 1337  884 2987 1476 2983 3198\n",
      " 1236 1797 1404 3167 3705 2362 2252 2752 3312 2315 1820 1440 2015 1598\n",
      " 1176 1482 1478 1040 1000 1640 1578 1930 1240 1866 1388 1397 2644 1020\n",
      " 2024  780 1544 1624 1840 1454 1281 1536 1507 1766 1940 2971 1468 1280\n",
      " 1806 1376 1486 1722 2454 2346 3254 1448 1734 3381 2272 3326 3631 2824\n",
      " 1966 1387 2522 2095 1932 3624 2848 1625 1717 3220 3342 2061 3522 1320\n",
      " 2356 2808 1059 2774 1991 3030 1916 4090 1939 2118 4188 1080 1170 2390\n",
      " 1469 1496 2699 2136 2090 4600 1712 1920 1705 1742 3101 1190 1410 1822\n",
      " 2198 1088  900 1538 2108  854 2617 4386 1570 1257 2072 2213 1500 2330\n",
      " 1339 1472 2681 1471 1214 1882  987 1606 1554 1052 2353 2422 1831 2334\n",
      " 2179 1662 1765 2012 3871 3679 1794 3420 2506 2236 2066 9536 2312 3796]\n",
      "[36372 85266 85262 85255 85331 85377 93446 98021 81524 81418 81521 62214\n",
      " 62234 62034 62025 62088 62249 60002 60046 60016 91901 92021 92677 96019\n",
      " 95220 94501 93111 93105 92880 91752 92543 92253 94568 90211 92040 93720\n",
      " 92692 93924 90265 93314 90038 90803 95008 94565 91915 92276 93510 92802\n",
      " 94531]\n",
      "[ 865200  889000  910000  971226 1249000  799000 1698000 1749000 1500000\n",
      "  519200 1039000  700000  500000  740000  725000 1199000  925000 1595000\n",
      "  799900 1375000 1345000 1290000  962500  875000 1650000  789000  365000\n",
      " 1695000  999000 1294000 1089000 1229000  455000  395000  638940  435000\n",
      "  528800  350000  425000  589900  419000  415000  214900  699900  449000\n",
      "  249900  595999  535000  439900  450000  196000  104900  209900  520000\n",
      "  119000  218000  254900  219500  186500   94500  339900  259000  144900\n",
      "  349900  229000  184900  225000  289900  299000  224900  599000  529800\n",
      "  397500  699999  689000  529000 1430000  825000  619000  625000 1095000\n",
      "  979000  539000   65000  521500  470000  629000  679000  549000  769000\n",
      "  245900  644900  895000  699000  848000 1499000  669000 1195000  949000\n",
      "  749900  429900  935000  475000  485000  389000  379000  578000  575000\n",
      "  699800  825500 3850000  869000  347000 1349000  685000 1499999  469900\n",
      " 1200000  324999  895500 1399999  335000  389900  738000  798800 1045000\n",
      "  750000  649900  728000 1895000 1795000  219800   22000  245000  170000\n",
      "  178000  239900  449900  279900  164000  319500  915000  824999  699700\n",
      "  649000 1449000  899900 1999999 1600000  739000  339000  888000  749000\n",
      "  490000  598000 1327685 1495000  899000  729000 1188000  538800  349000\n",
      "  479000  499000  988000 1150000 1295000  995888  668000 4000000  599999\n",
      " 1080000  897000 1149000 2150000  567500  579000  695000  635900  585000\n",
      "  580000  547900  570000  568000  560000  550000  549999  545000  539900\n",
      "  539800  538000  534977  534888  530000  529900  529999  284900  303590\n",
      " 1350000   89900  515000  700200  664900  250000  310000 1550000  649990\n",
      " 1299000  489000  540000  360000  448000  669472  549900  519900  525000\n",
      "   96900  163000  175000   98000   36000  115000  125000  100000  193000\n",
      "  385000  567000  537000  647000  542000  565000  510000  675000  409900\n",
      "  553000  400000  615000  221000  195000  240000  599900  765000  384000\n",
      "  759000  154900  138500   97500  219000  103500  136900  135000  158888\n",
      "   74900   69900  139500  219900   99900   59900  118900  106000   67500\n",
      "  104950   97000   98900   79900  164900  117000  256000   61000  167400\n",
      "   63500   77000  114500   96500  248500  117500   84900  379500  147000\n",
      "   67900  199000  124900   69800  185000   87500  160000  122500  139000\n",
      "   99000   49900  154500  129900  235000  129000   83900  129500 2395000\n",
      "   69500   79500   68500  179000   89500   72000  174900  169900  154000\n",
      "  189000   62500  174500   50000   94900   42900   67000  110000 5858000\n",
      "  557000  674900  265000  559000  569000  705000  309900  698777  639000\n",
      "  494000  630000  541000  680000  710000  445000  599500  549950  859000\n",
      "  139900  489900  325000  299900 1250000  499500  975000  179900  739900\n",
      "  330000  280000 2200000  275000  699500  439000  579500  380000  319000\n",
      "  344900  309995  572000   78000  424900  850000  458000  468000  460000\n",
      "  430000  329900  454999  569950  449950  495000  399900  407000]\n"
     ]
    }
   ],
   "source": [
    "# VERIFICANDO DADOS ANTES DE ENVIÁ-LOS PARA A TABELA\n",
    "# percebe-se que há 'datetimes' na coluna 'qte_quartos'\n",
    "\n",
    "for i in df.columns:\n",
    "    print(df[i].unique())"
   ]
  },
  {
   "cell_type": "code",
   "execution_count": 4,
   "metadata": {},
   "outputs": [],
   "source": [
    "# DELETANDO LINHAS COM DATETIMES BUSCANDO POR SEUS INDEXES\n",
    "\n",
    "drop_these_indexes = []\n",
    "for i in range(0, len(df.index)):\n",
    "    if df.iloc[i]['qte_quartos'] not in [1, 2, 3, 4, 5, 6, 7, 8, 9, '3.25']:\n",
    "        drop_these_indexes.append(i)\n",
    "        \n",
    "df = df.drop(drop_these_indexes)"
   ]
  },
  {
   "cell_type": "code",
   "execution_count": 5,
   "metadata": {},
   "outputs": [],
   "source": [
    "# CRIANDO TABELA\n",
    "\n",
    "cur.execute('CREATE TABLE casas (qte_banheiros BIGINT, qte_quartos BIGINT, area BIGINT, cep BIGINT, preco BIGINT)')\n",
    "con.commit()"
   ]
  },
  {
   "cell_type": "code",
   "execution_count": 6,
   "metadata": {},
   "outputs": [],
   "source": [
    "# INSERINDO VALORES NA TABELA\n",
    "\n",
    "b = df['qte_banheiros'].tolist()\n",
    "q = df['qte_quartos'].tolist()\n",
    "a = df['area'].tolist()\n",
    "c = df['cep'].tolist()\n",
    "p = df['preco'].tolist()\n",
    "\n",
    "for i in range(0, len(b)):\n",
    "    cur.execute('INSERT INTO casas VALUES ({}, {}, {}, {}, {})'.format(b[i], q[i], a[i], c[i], p[i]))\n",
    "    con.commit()"
   ]
  },
  {
   "cell_type": "code",
   "execution_count": 2,
   "metadata": {},
   "outputs": [
    {
     "name": "stdout",
     "output_type": "stream",
     "text": [
      " * Serving Flask app \"__main__\" (lazy loading)\n",
      " * Environment: production\n",
      "   WARNING: This is a development server. Do not use it in a production deployment.\n",
      "   Use a production WSGI server instead.\n",
      " * Debug mode: off\n"
     ]
    },
    {
     "name": "stderr",
     "output_type": "stream",
     "text": [
      " * Running on http://127.0.0.1:5000/ (Press CTRL+C to quit)\n"
     ]
    },
    {
     "data": {
      "image/png": "[encoded data removed]",
      "text/plain": [
       "<Figure size 432x288 with 1 Axes>"
      ]
     },
     "metadata": {
      "needs_background": "light"
     },
     "output_type": "display_data"
    },
    {
     "name": "stderr",
     "output_type": "stream",
     "text": [
      "127.0.0.1 - - [27/Feb/2020 13:26:03] \"GET /area/3000/4000 HTTP/1.1\" 200 -\n"
     ]
    }
   ],
   "source": [
    "# EX.1\n",
    "\n",
    "#Criar endpoint de get, que deve selecionar os dados dentro de um intervalo de area, plotar o gráfico de \n",
    "#dispersão em que o eixo x é a área e o eixo y o preco e retornar o json com esses dados; \n",
    "\n",
    "app = Flask(__name__)\n",
    "\n",
    "@app.route(\"/area/<min>/<max>\", methods = ['GET'])\n",
    "\n",
    "def area(min, max):\n",
    "    \n",
    "    post_args = request.json\n",
    "    \n",
    "    try:\n",
    "        query = \"SELECT * FROM casas WHERE area BETWEEN {} AND {};\".format(min, max)\n",
    "        df = pd.read_sql(query, con)\n",
    "        plt.scatter(df['area'], df['preco'])\n",
    "        plt.show()\n",
    "        return df.to_json(orient = 'records'), 200\n",
    "    \n",
    "    except:\n",
    "        return 'Não foi possível fazer o SELECT em info_casas', 500\n",
    "\n",
    "app.run()"
   ]
  },
  {
   "cell_type": "code",
   "execution_count": 3,
   "metadata": {},
   "outputs": [
    {
     "name": "stdout",
     "output_type": "stream",
     "text": [
      " * Serving Flask app \"__main__\" (lazy loading)\n",
      " * Environment: production\n",
      "   WARNING: This is a development server. Do not use it in a production deployment.\n",
      "   Use a production WSGI server instead.\n",
      " * Debug mode: off\n"
     ]
    },
    {
     "name": "stderr",
     "output_type": "stream",
     "text": [
      " * Running on http://127.0.0.1:5000/ (Press CTRL+C to quit)\n"
     ]
    },
    {
     "data": {
      "image/png": "[encoded data removed]",
      "text/plain": [
       "<Figure size 432x288 with 1 Axes>"
      ]
     },
     "metadata": {
      "needs_background": "light"
     },
     "output_type": "display_data"
    },
    {
     "name": "stderr",
     "output_type": "stream",
     "text": [
      "127.0.0.1 - - [27/Feb/2020 13:26:30] \"GET /precotop15 HTTP/1.1\" 200 -\n"
     ]
    }
   ],
   "source": [
    "#Criar endpoint de get, que deve selecionar os 15 dados com maior preco em ordem decrescente, plotar o \n",
    "#gráfico de linha em que o eixo x é o preco e o eixo y a qte_quartos e retornar o json com esses dados; \n",
    "\n",
    "app = Flask(__name__)\n",
    "\n",
    "@app.route(\"/precotop15\", methods = ['GET'])\n",
    "\n",
    "def top_15():\n",
    "    \n",
    "    try:\n",
    "        query = \"SELECT * FROM casas ORDER BY preco DESC LIMIT 15;\"\n",
    "        df = pd.read_sql(query, con)\n",
    "        plt.plot(df['preco'], df['qte_quartos'])\n",
    "        plt.show()\n",
    "        return df.to_json(orient = 'records'), 200\n",
    "    \n",
    "    except:\n",
    "        return 'Não foi possível fazer o SELECT em info_casas', 500\n",
    "\n",
    "app.run()"
   ]
  },
  {
   "cell_type": "code",
   "execution_count": 4,
   "metadata": {},
   "outputs": [
    {
     "name": "stdout",
     "output_type": "stream",
     "text": [
      " * Serving Flask app \"__main__\" (lazy loading)\n",
      " * Environment: production\n",
      "   WARNING: This is a development server. Do not use it in a production deployment.\n",
      "   Use a production WSGI server instead.\n",
      " * Debug mode: off\n"
     ]
    },
    {
     "name": "stderr",
     "output_type": "stream",
     "text": [
      " * Running on http://127.0.0.1:5000/ (Press CTRL+C to quit)\n"
     ]
    },
    {
     "data": {
      "image/png": "[encoded data removed]",
      "text/plain": [
       "<Figure size 432x288 with 1 Axes>"
      ]
     },
     "metadata": {
      "needs_background": "light"
     },
     "output_type": "display_data"
    },
    {
     "name": "stderr",
     "output_type": "stream",
     "text": [
      "127.0.0.1 - - [27/Feb/2020 13:26:57] \"GET /qte_banheiros/3 HTTP/1.1\" 200 -\n"
     ]
    }
   ],
   "source": [
    "#Criar endpoint de get, que deve selecionar todos os dados com determinada quantidade de qte_banheiros, \n",
    "#plotar o histograma com a quantidade de quartos; \n",
    "\n",
    "app = Flask(__name__)\n",
    "\n",
    "@app.route(\"/qte_banheiros/<n>\", methods = ['GET'])\n",
    "\n",
    "def qtes(n):\n",
    "    \n",
    "    try:\n",
    "        query = \"SELECT * FROM casas WHERE qte_banheiros = {};\".format(n)\n",
    "        df = pd.read_sql(query, con)\n",
    "        plt.hist(df['qte_quartos'])\n",
    "        plt.show()\n",
    "        return df.to_json(orient = 'records'), 200\n",
    "    \n",
    "    except:\n",
    "        return 'Não foi possível fazer o SELECT em info_casas', 500\n",
    "\n",
    "app.run()"
   ]
  },
  {
   "cell_type": "code",
   "execution_count": 5,
   "metadata": {},
   "outputs": [
    {
     "name": "stdout",
     "output_type": "stream",
     "text": [
      " * Serving Flask app \"__main__\" (lazy loading)\n",
      " * Environment: production\n",
      "   WARNING: This is a development server. Do not use it in a production deployment.\n",
      "   Use a production WSGI server instead.\n",
      " * Debug mode: off\n"
     ]
    },
    {
     "name": "stderr",
     "output_type": "stream",
     "text": [
      " * Running on http://127.0.0.1:5000/ (Press CTRL+C to quit)\n",
      "127.0.0.1 - - [27/Feb/2020 13:28:29] \"PUT /update HTTP/1.1\" 200 -\n"
     ]
    }
   ],
   "source": [
    "#Criar endpoint de put, que atualize os dados pelo cep;\n",
    "\n",
    "app = Flask(__name__)\n",
    "\n",
    "@app.route(\"/update\", methods = ['PUT'])\n",
    "\n",
    "def update():\n",
    "    post_args = request.json\n",
    "    \n",
    "    if \"cep\" not in post_args:\n",
    "        return \"O cep não foi informado no dado recebido.\", 400\n",
    "    \n",
    "    if \"qte_quartos\" in post_args:\n",
    "        query = \"UPDATE casas SET qte_quartos = '{qte_quartos}' WHERE cep = '{cep}'\".format(\n",
    "            qte_quartos = post_args[\"qte_quartos\"], cep = post_args[\"cep\"])\n",
    "        cur.execute(query)\n",
    "        \n",
    "    if \"qte_banheiros\" in post_args:\n",
    "        query = \"UPDATE casas SET qte_banheiros = '{qte_banheiros}' WHERE cep = '{cep}'\".format(\n",
    "            qte_banheiros = post_args[\"qte_banheiros\"], cep = post_args[\"cep\"])\n",
    "        cur.execute(query)\n",
    "        \n",
    "    if \"area\" in post_args:\n",
    "        query = \"UPDATE casas SET area = '{area}' WHERE cep = '{cep}'\".format(\n",
    "            area = post_args[\"area\"], cep = post_args[\"cep\"])\n",
    "        cur.execute(query)\n",
    "        \n",
    "    if \"preco\" in post_args:\n",
    "        query = \"UPDATE casas SET preco = '{preco}' WHERE cep = '{cep}'\".format(\n",
    "            preco = post_args[\"preco\"], cep = post_args[\"cep\"])\n",
    "        cur.execute(query)\n",
    "        \n",
    "    con.commit()\n",
    "    \n",
    "    return \"sucesso\", 200\n",
    "app.run()"
   ]
  },
  {
   "cell_type": "code",
   "execution_count": 6,
   "metadata": {},
   "outputs": [
    {
     "name": "stdout",
     "output_type": "stream",
     "text": [
      " * Serving Flask app \"__main__\" (lazy loading)\n",
      " * Environment: production\n",
      "   WARNING: This is a development server. Do not use it in a production deployment.\n",
      "   Use a production WSGI server instead.\n",
      " * Debug mode: off\n"
     ]
    },
    {
     "name": "stderr",
     "output_type": "stream",
     "text": [
      " * Running on http://127.0.0.1:5000/ (Press CTRL+C to quit)\n",
      "127.0.0.1 - - [27/Feb/2020 13:29:19] \"DELETE /del/85266 HTTP/1.1\" 200 -\n"
     ]
    }
   ],
   "source": [
    "#Criar endpoint de delete, que delete os dados pelo cep;\n",
    "\n",
    "app = Flask(__name__)\n",
    "\n",
    "@app.route(\"/del/<cep>\", methods = ['DELETE'])\n",
    "\n",
    "def delete(cep):\n",
    "    \n",
    "    try:\n",
    "        sql = \"DELETE FROM casas WHERE cep = {};\"\n",
    "        cur.execute(sql.format(int(cep)))\n",
    "        con.commit()\n",
    "        return \"sucesso\", 200\n",
    "    \n",
    "    except:\n",
    "        return 'Não foi possível fazer o DELETE em info_casas', 500\n",
    "\n",
    "app.run()"
   ]
  },
  {
   "cell_type": "code",
   "execution_count": null,
   "metadata": {},
   "outputs": [],
   "source": []
  }
 ],
 "metadata": {
  "kernelspec": {
   "display_name": "Python 3",
   "language": "python",
   "name": "python3"
  },
  "language_info": {
   "codemirror_mode": {
    "name": "ipython",
    "version": 3
   },
   "file_extension": ".py",
   "mimetype": "text/x-python",
   "name": "python",
   "nbconvert_exporter": "python",
   "pygments_lexer": "ipython3",
   "version": "3.7.4"
  }
 },
 "nbformat": 4,
 "nbformat_minor": 2
}
