{
 "cells": [
  {
   "cell_type": "code",
   "execution_count": 1,
   "metadata": {},
   "outputs": [],
   "source": [
    "import pandas as pd\n",
    "from pymongo import MongoClient\n",
    "import matplotlib.pyplot as plt\n",
    "from flask import Flask, request, jsonify\n",
    "\n",
    "client = MongoClient('mongodb://localhost:27017/')\n",
    "meu_banco = client['imobiliaria']\n",
    "casas = meu_banco['casas']"
   ]
  },
  {
   "cell_type": "code",
   "execution_count": 9,
   "metadata": {},
   "outputs": [],
   "source": [
    "# eliminando linhas em que o campo 'qte_quartos' era preenchido por um datetime\n",
    "\n",
    "df = pd.read_excel('HousesInfo.xlsx')\n",
    "df.columns = ['qte_banheiros', 'qte_quartos', 'area', 'cep', 'preco']\n",
    "\n",
    "drop_these_indexes = []\n",
    "for i in range(0, len(df.index)):\n",
    "    if df.iloc[i]['qte_quartos'] not in [1, 2, 3, 4, 5, 6, 7, 8, 9, '3.25']:\n",
    "        drop_these_indexes.append(i)\n",
    "        \n",
    "df = df.drop(drop_these_indexes)\n",
    "\n",
    "# ESTE BLOCO ENVIA OS DADOS PARA O BANCO\n",
    "# criei o banco e a collection pelo Compass\n",
    "\n",
    "#cria dataframe com o excel 'HousesInfo.xlsx', adiciona cabeçalho, tranforma seus campos em string\n",
    "\n",
    "df.columns = ['qte_banheiros', 'qte_quartos', 'area', 'cep', 'preco']\n",
    "for i in df.columns:\n",
    "    exec(\"df['{}'].astype(str)\".format(i))\n",
    "\n",
    "# insere dados do dataframe na collection casas\n",
    "\n",
    "insert_1 = casas.insert_many(df.to_dict(orient = 'records')) "
   ]
  },
  {
   "cell_type": "code",
   "execution_count": 2,
   "metadata": {},
   "outputs": [
    {
     "name": "stdout",
     "output_type": "stream",
     "text": [
      " * Serving Flask app \"__main__\" (lazy loading)\n",
      " * Environment: production\n",
      "   WARNING: This is a development server. Do not use it in a production deployment.\n",
      "   Use a production WSGI server instead.\n",
      " * Debug mode: off\n"
     ]
    },
    {
     "name": "stderr",
     "output_type": "stream",
     "text": [
      " * Running on http://127.0.0.1:5000/ (Press CTRL+C to quit)\n"
     ]
    },
    {
     "data": {
      "image/png": "[encoded data removed]",
      "text/plain": [
       "<Figure size 432x288 with 1 Axes>"
      ]
     },
     "metadata": {
      "needs_background": "light"
     },
     "output_type": "display_data"
    },
    {
     "name": "stderr",
     "output_type": "stream",
     "text": [
      "127.0.0.1 - - [27/Feb/2020 13:23:07] \"GET /area/3000/4000 HTTP/1.1\" 200 -\n"
     ]
    }
   ],
   "source": [
    "# EX.1\n",
    "\n",
    "# Criar endpoint de get, que deve selecionar os dados dentro de um intervalo de area, plotar o gráfico de \n",
    "# dispersão em que o eixo x é a área e o eixo y o preco e retornar o json com esses dados; \n",
    "\n",
    "app = Flask(__name__)\n",
    "@app.route(\"/area/<y>/<x>\", methods = ['GET'])\n",
    "\n",
    "def area(y, x):\n",
    "    \n",
    "    doc_1 = casas.find({\"$and\":[{\"area\":{\"$lt\":int(x)}}, {\"area\":{\"$gt\":int(y)}}]})\n",
    "    df = pd.DataFrame(doc_1)\n",
    "    df = df.drop(columns = ['_id'])\n",
    "    \n",
    "    plt.scatter(df['area'], df['preco'])\n",
    "    plt.show()\n",
    "    \n",
    "    return jsonify(df.to_dict()), 200\n",
    "\n",
    "app.run()"
   ]
  },
  {
   "cell_type": "code",
   "execution_count": 3,
   "metadata": {},
   "outputs": [
    {
     "name": "stdout",
     "output_type": "stream",
     "text": [
      " * Serving Flask app \"__main__\" (lazy loading)\n",
      " * Environment: production\n",
      "   WARNING: This is a development server. Do not use it in a production deployment.\n",
      "   Use a production WSGI server instead.\n",
      " * Debug mode: off\n"
     ]
    },
    {
     "name": "stderr",
     "output_type": "stream",
     "text": [
      " * Running on http://127.0.0.1:5000/ (Press CTRL+C to quit)\n"
     ]
    },
    {
     "data": {
      "image/png": "[encoded data removed]",
      "text/plain": [
       "<Figure size 432x288 with 1 Axes>"
      ]
     },
     "metadata": {
      "needs_background": "light"
     },
     "output_type": "display_data"
    },
    {
     "name": "stderr",
     "output_type": "stream",
     "text": [
      "127.0.0.1 - - [27/Feb/2020 13:23:21] \"GET /top15 HTTP/1.1\" 200 -\n"
     ]
    }
   ],
   "source": [
    "# EX.2\n",
    "\n",
    "# Criar endpoint de get, que deve selecionar os 15 dados com maior preco em ordem decrescente, plotar o \n",
    "# gráfico de linha em que o eixo x é o preco e o eixo y a qte_quartos e retornar o json com esses dados; \n",
    "\n",
    "app = Flask(__name__)\n",
    "\n",
    "@app.route(\"/top15\", methods = ['GET'])\n",
    "\n",
    "def top15():\n",
    "    \n",
    "    doc_2 = casas.find().sort('preco', -1).limit(15)\n",
    "    df_2 = pd.DataFrame(doc_2)\n",
    "    df_2 = df_2.drop(columns = ['_id'])\n",
    "    \n",
    "    plt.plot(df_2['preco'], df_2['qte_quartos'])\n",
    "    plt.show()\n",
    "    \n",
    "    return jsonify(df_2.to_dict()), 200\n",
    "    \n",
    "app.run()"
   ]
  },
  {
   "cell_type": "code",
   "execution_count": 4,
   "metadata": {},
   "outputs": [
    {
     "name": "stdout",
     "output_type": "stream",
     "text": [
      " * Serving Flask app \"__main__\" (lazy loading)\n",
      " * Environment: production\n",
      "   WARNING: This is a development server. Do not use it in a production deployment.\n",
      "   Use a production WSGI server instead.\n",
      " * Debug mode: off\n"
     ]
    },
    {
     "name": "stderr",
     "output_type": "stream",
     "text": [
      " * Running on http://127.0.0.1:5000/ (Press CTRL+C to quit)\n"
     ]
    },
    {
     "data": {
      "image/png": "[encoded data removed]",
      "text/plain": [
       "<Figure size 432x288 with 1 Axes>"
      ]
     },
     "metadata": {
      "needs_background": "light"
     },
     "output_type": "display_data"
    },
    {
     "name": "stderr",
     "output_type": "stream",
     "text": [
      "127.0.0.1 - - [27/Feb/2020 13:23:39] \"GET /banheiros/3 HTTP/1.1\" 200 -\n"
     ]
    }
   ],
   "source": [
    "# EX.3\n",
    "\n",
    "# Criar endpoint de get, que deve selecionar todos os dados com determinada quantidade de qte_banheiros, \n",
    "# plotar o gráfico de barra em que o eixo x é o qte_banheiros e o eixo y a qte_quartos e retornar o json com \n",
    "# esses dados; \n",
    "\n",
    "app = Flask(__name__)\n",
    "@app.route(\"/banheiros/<qte>\", methods = ['GET'])\n",
    "\n",
    "def delete(qte):\n",
    "    \n",
    "    doc_3 = casas.find({'qte_banheiros':int(qte)})\n",
    "    df_3 = pd.DataFrame(doc_3)\n",
    "    df_3 = df_3.drop(columns = ['_id'])\n",
    "    \n",
    "    plt.hist(df_3['qte_quartos'])\n",
    "    plt.show()\n",
    "    \n",
    "    return jsonify(df_3.to_dict()), 200\n",
    "\n",
    "app.run()"
   ]
  },
  {
   "cell_type": "code",
   "execution_count": 5,
   "metadata": {},
   "outputs": [
    {
     "name": "stdout",
     "output_type": "stream",
     "text": [
      " * Serving Flask app \"__main__\" (lazy loading)\n",
      " * Environment: production\n",
      "   WARNING: This is a development server. Do not use it in a production deployment.\n",
      "   Use a production WSGI server instead.\n",
      " * Debug mode: off\n"
     ]
    },
    {
     "name": "stderr",
     "output_type": "stream",
     "text": [
      " * Running on http://127.0.0.1:5000/ (Press CTRL+C to quit)\n",
      "127.0.0.1 - - [27/Feb/2020 13:24:09] \"PUT /update HTTP/1.1\" 200 -\n"
     ]
    }
   ],
   "source": [
    "# EX.4\n",
    "\n",
    "# Criar endpoint de put, que atualize os dados pelo cep;\n",
    "\n",
    "app = Flask(__name__)\n",
    "\n",
    "@app.route(\"/update\", methods = ['PUT'])\n",
    "\n",
    "def update():\n",
    "    \n",
    "    post_args = request.json\n",
    "        \n",
    "    if \"cep\" not in post_args:\n",
    "        return \"O cep não foi informado no dado recebido.\", 400\n",
    "    \n",
    "    find_query = {'cep':post_args['cep']}\n",
    "    \n",
    "    if \"qte_quartos\" in post_args:\n",
    "        set_value_quartos = {'$set':{'qte_quartos':post_args['qte_quartos']}}\n",
    "        casas.update_one(find_query, set_value_quartos)\n",
    "    \n",
    "    if \"qte_banheiros\" in post_args:\n",
    "        set_value_banheiros = {'$set':{'qte_banheiros':post_args['qte_banheiros']}}\n",
    "        casas.update_one(find_query, set_value_banheiros)\n",
    "        \n",
    "    if \"area\" in post_args:\n",
    "        set_value_area = {'$set':{'area':post_args['area']}}\n",
    "        casas.update_one(find_query, set_value_area)\n",
    "        \n",
    "    if \"preco\" in post_args:\n",
    "        set_value_preco = {'$set':{'preco':post_args['preco']}}\n",
    "        casas.update_one(find_query, set_value_preco)\n",
    "    \n",
    "    return 'sucesso', 200\n",
    "\n",
    "app.run()"
   ]
  },
  {
   "cell_type": "code",
   "execution_count": 6,
   "metadata": {},
   "outputs": [
    {
     "name": "stdout",
     "output_type": "stream",
     "text": [
      " * Serving Flask app \"__main__\" (lazy loading)\n",
      " * Environment: production\n",
      "   WARNING: This is a development server. Do not use it in a production deployment.\n",
      "   Use a production WSGI server instead.\n",
      " * Debug mode: off\n"
     ]
    },
    {
     "name": "stderr",
     "output_type": "stream",
     "text": [
      " * Running on http://127.0.0.1:5000/ (Press CTRL+C to quit)\n",
      "127.0.0.1 - - [27/Feb/2020 13:24:35] \"DELETE /del/36372 HTTP/1.1\" 200 -\n"
     ]
    }
   ],
   "source": [
    "#Criar endpoint de delete, que delete os dados pelo cep;\n",
    "\n",
    "app = Flask(__name__)\n",
    "@app.route(\"/del/<cep>\", methods = ['DELETE'])\n",
    "\n",
    "def delete(cep):\n",
    "\n",
    "    try:\n",
    "        casas.delete_one({\"cep\":int(cep)})\n",
    "        return 'item de cep {} deletado'.format(cep), 200\n",
    "    \n",
    "    except:\n",
    "        return 'Não foi possível fazer o DELETE em casas', 500\n",
    "\n",
    "app.run()"
   ]
  },
  {
   "cell_type": "code",
   "execution_count": null,
   "metadata": {},
   "outputs": [],
   "source": []
  }
 ],
 "metadata": {
  "kernelspec": {
   "display_name": "Python 3",
   "language": "python",
   "name": "python3"
  },
  "language_info": {
   "codemirror_mode": {
    "name": "ipython",
    "version": 3
   },
   "file_extension": ".py",
   "mimetype": "text/x-python",
   "name": "python",
   "nbconvert_exporter": "python",
   "pygments_lexer": "ipython3",
   "version": "3.7.4"
  }
 },
 "nbformat": 4,
 "nbformat_minor": 2
}
