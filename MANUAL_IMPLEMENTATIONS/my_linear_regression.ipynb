{
 "cells": [
  {
   "cell_type": "code",
   "execution_count": 1,
   "metadata": {},
   "outputs": [],
   "source": [
    "# a = (1, 1)\n",
    "# b = (2, 2)\n",
    "# c = (2, 3)\n",
    "# d = (3, 6)\n",
    "import numpy as np\n",
    "pontos = [[1, 1], [2, 2], [2, 3], [3, 6]]"
   ]
  },
  {
   "cell_type": "code",
   "execution_count": 2,
   "metadata": {},
   "outputs": [],
   "source": [
    "class RegressaoLinear:\n",
    "    \n",
    "    def __init__(self, coeficiente = None, intercepto = None, x = None, y = None,\n",
    "                 erro_quadrado_da_reta = None, n = None, dados = None):\n",
    "        \n",
    "        self.dados = dados\n",
    "        self.x = x\n",
    "        self.y = y\n",
    "        self.n = n\n",
    "        \n",
    "        self.coeficiente = coeficiente\n",
    "        self.intercepto = intercepto\n",
    "        self.erro_quadrado_da_reta = erro_quadrado_da_reta\n",
    "        \n",
    "    def ajustar(self, dados):\n",
    "        \n",
    "        self.dados = dados\n",
    "        \n",
    "        sum_xy = 0\n",
    "        sum_x = 0\n",
    "        sum_y = 0\n",
    "        sum_x2 = 0\n",
    "        \n",
    "        x = []\n",
    "        y = []\n",
    "        \n",
    "        for n in range(0, len(dados)):\n",
    "            x.append(dados[n][0])\n",
    "            y.append(dados[n][1])\n",
    "        \n",
    "        self.x = x\n",
    "        self.y = y\n",
    "        \n",
    "        n = len(dados)\n",
    "        self.n = len(dados)\n",
    "        \n",
    "        for i in dados:\n",
    "            sum_xy += (i[0] * i[1])\n",
    "            sum_x += i[0]\n",
    "            sum_y += i[1]\n",
    "            sum_x2 += i[0] ** 2\n",
    "    \n",
    "        self.intercepto = ((sum_y * sum_x2) - (sum_x * sum_xy)) / ((n * sum_x2) - (sum_x ** 2))\n",
    "        self.coeficiente = ((n * (sum_xy)) - (sum_x * sum_y)) / ((n * sum_x2) - (sum_x ** 2))\n",
    "    \n",
    "    def prever(self, variavel_independente):\n",
    "        coeficiente = self.coeficiente\n",
    "        intercepto = self.intercepto\n",
    "        variavel_dependente = (coeficiente * variavel_independente) + intercepto\n",
    "        return variavel_dependente\n",
    "    \n",
    "    def coeficiente_de_determinacao(self):\n",
    "        \n",
    "        dados = self.dados\n",
    "        x = self.x\n",
    "        y = self.y\n",
    "        erro_quadrado_da_reta = 0\n",
    "        variacao_total_de_y = 0\n",
    "        for i in range(0, len(dados)):\n",
    "            \n",
    "            erro_quadrado_da_reta += ((modelo.prever(x[i]) - y[i]) ** 2)\n",
    "            variacao_total_de_y += (y[i] - np.mean(y)) ** 2\n",
    "            \n",
    "        self.erro_quadrado_da_reta = erro_quadrado_da_reta\n",
    "        \n",
    "        coeficiente_de_determinacao = 1 - (erro_quadrado_da_reta / variacao_total_de_y)\n",
    "    \n",
    "        return coeficiente_de_determinacao\n",
    "    \n",
    "    def erro_quadratico_medio(self):\n",
    "        aux = self.erro_quadrado_da_reta\n",
    "        mse = np.sqrt(aux / (self.n - 1))\n",
    "        return mse"
   ]
  },
  {
   "cell_type": "code",
   "execution_count": 3,
   "metadata": {},
   "outputs": [],
   "source": [
    "# erro_quadrado_da_reta -> quanto da variação total em y é correspondida pela variação em x\n",
    "\n",
    "# (erro_quadrado_da_reta / variacao_total_de_y) é a porcentagem que representa o quanto da variação total \n",
    "# não é representada pela linha de regressão"
   ]
  },
  {
   "cell_type": "code",
   "execution_count": 4,
   "metadata": {},
   "outputs": [
    {
     "data": {
      "text/plain": [
       "0.8928571428571429"
      ]
     },
     "execution_count": 4,
     "metadata": {},
     "output_type": "execute_result"
    }
   ],
   "source": [
    "modelo = RegressaoLinear()\n",
    "modelo.ajustar(pontos)\n",
    "modelo.coeficiente_de_determinacao()"
   ]
  },
  {
   "cell_type": "code",
   "execution_count": 5,
   "metadata": {},
   "outputs": [
    {
     "data": {
      "text/plain": [
       "0.7071067811865476"
      ]
     },
     "execution_count": 5,
     "metadata": {},
     "output_type": "execute_result"
    }
   ],
   "source": [
    "modelo.erro_quadratico_medio() # desvio padrao dos residuos"
   ]
  },
  {
   "cell_type": "code",
   "execution_count": 6,
   "metadata": {},
   "outputs": [
    {
     "data": {
      "text/plain": [
       "-2.0"
      ]
     },
     "execution_count": 6,
     "metadata": {},
     "output_type": "execute_result"
    }
   ],
   "source": [
    "modelo.intercepto"
   ]
  },
  {
   "cell_type": "code",
   "execution_count": null,
   "metadata": {},
   "outputs": [],
   "source": []
  }
 ],
 "metadata": {
  "kernelspec": {
   "display_name": "Python 3",
   "language": "python",
   "name": "python3"
  },
  "language_info": {
   "codemirror_mode": {
    "name": "ipython",
    "version": 3
   },
   "file_extension": ".py",
   "mimetype": "text/x-python",
   "name": "python",
   "nbconvert_exporter": "python",
   "pygments_lexer": "ipython3",
   "version": "3.7.4"
  }
 },
 "nbformat": 4,
 "nbformat_minor": 2
}
