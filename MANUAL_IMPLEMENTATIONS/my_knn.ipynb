{
 "cells": [
  {
   "cell_type": "code",
   "execution_count": 1,
   "metadata": {},
   "outputs": [],
   "source": [
    "import numpy as np\n",
    "import pandas as pd\n",
    "from scipy.stats import mode\n",
    "\n",
    "# função auxiliar chamada por 'my_knn'\n",
    "# parâmetro 'instances' -> lista contendo dois dados (a função retorna a distância entre estes)\n",
    "def get_distance(dataframe, instances, target): \n",
    "\n",
    "    df_aux = dataframe.drop(columns = [target])\n",
    "    \n",
    "    s = 0\n",
    "    e = len(df_aux.columns) \n",
    "    for expl_var in df_aux.columns: \n",
    "        s += ((abs(instances[0][expl_var] - instances[1][expl_var])) ** e) \n",
    "        \n",
    "    return s ** (1 / e)\n",
    "\n",
    "# parâmetro 'task' -> especifica qual tarefa deve ser realizada ('regressao' / 'classificacao')\n",
    "def my_knn(dataframe, new_instance, target, n_neighbors, task, est = None):\n",
    "    \n",
    "    distances = []\n",
    "    for row in dataframe.index:\n",
    "        distance = get_distance(dataframe, [new_instance, dataframe.iloc[row]], target)\n",
    "        distances.append([distance, dataframe.iloc[row][target]])\n",
    "    \n",
    "    distances.sort()    \n",
    "    closest = distances[:n_neighbors]\n",
    "    \n",
    "    closest_targets = []\n",
    "    for i in closest:\n",
    "        closest_targets.append(i[1])\n",
    "        \n",
    "    if task == 'classificacao':\n",
    "        ret = mode(closest_targets)\n",
    "        print('classe: {0}\\nprobabilidade: {1}%'.format(ret[0][0], \n",
    "                                            round(ret[1][0] / len(closest_targets) * 100, 2)))\n",
    "    \n",
    "    if task == 'regressao':\n",
    "        \n",
    "        if est == 'media':    \n",
    "            return(round(np.mean(closest_targets), 2), round(np.std(closest_targets), 2))\n",
    "        \n",
    "        if est == 'mediana':\n",
    "            return(round(np.median(closest_targets), 2), round(np.std(closest_targets), 2))"
   ]
  },
  {
   "cell_type": "code",
   "execution_count": 2,
   "metadata": {},
   "outputs": [],
   "source": [
    "from sklearn.datasets import load_boston, load_iris, load_diabetes, load_wine, load_breast_cancer\n",
    "# CARREGANDO DATASETS, TRANSFORMANDO-OS EM DATAFRAMES\n",
    "sk_dtsts = ['boston', 'iris', 'diabetes', 'wine', 'breast_cancer']\n",
    "df_names = ['bstn', 'irs', 'dbts', 'wn', 'brst']\n",
    "\n",
    "for dtst in sk_dtsts:\n",
    "    exec(\"{0} = load_{0}()\".format(dtst))\n",
    "    \n",
    "for load, name in zip(sk_dtsts, df_names):\n",
    "    exec(\"{0} = pd.DataFrame({1}.data, columns = {1}.feature_names)\".format(name, load))\n",
    "    exec(\"{0}['target'] = pd.Series({1}.target)\".format(name, load))\n",
    "    \n",
    "# bstn -> regressão\n",
    "# irs -> classificação\n",
    "# dbts -> regressão\n",
    "# wn -> classificação\n",
    "# brst -> classificação"
   ]
  },
  {
   "cell_type": "code",
   "execution_count": 3,
   "metadata": {},
   "outputs": [
    {
     "data": {
      "text/plain": [
       "(30.55, 5.72)"
      ]
     },
     "execution_count": 3,
     "metadata": {},
     "output_type": "execute_result"
    }
   ],
   "source": [
    "my_knn(dataframe = bstn, new_instance = bstn.iloc[50], target = 'target', \n",
    "       n_neighbors = 10, task = 'regressao', est = 'mediana')"
   ]
  },
  {
   "cell_type": "code",
   "execution_count": null,
   "metadata": {},
   "outputs": [],
   "source": []
  }
 ],
 "metadata": {
  "kernelspec": {
   "display_name": "Python 3",
   "language": "python",
   "name": "python3"
  },
  "language_info": {
   "codemirror_mode": {
    "name": "ipython",
    "version": 3
   },
   "file_extension": ".py",
   "mimetype": "text/x-python",
   "name": "python",
   "nbconvert_exporter": "python",
   "pygments_lexer": "ipython3",
   "version": "3.7.4"
  }
 },
 "nbformat": 4,
 "nbformat_minor": 2
}
