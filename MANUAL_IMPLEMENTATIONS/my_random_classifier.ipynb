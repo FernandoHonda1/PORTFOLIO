{
 "cells": [
  {
   "cell_type": "code",
   "execution_count": 1,
   "metadata": {},
   "outputs": [],
   "source": [
    "from random import randint\n",
    "from scipy.stats import mode\n",
    "\n",
    "import pandas as pd\n",
    "import numpy as np\n",
    "from functools import reduce\n",
    "from collections import Counter\n",
    "\n",
    "from sklearn.model_selection import train_test_split\n",
    "\n",
    "from sklearn.tree import DecisionTreeClassifier\n",
    "from sklearn.linear_model import LogisticRegression\n",
    "from sklearn.svm import SVC\n",
    "\n",
    "df = pd.read_csv('spam_ham.csv')"
   ]
  },
  {
   "cell_type": "code",
   "execution_count": 2,
   "metadata": {},
   "outputs": [],
   "source": [
    "def conta_palavras(lista_mensagens, dicionario_palavras):\n",
    "    \n",
    "    x = []\n",
    "    for m in lista_mensagens:\n",
    "        ocorrencias = {i:0 for i in dicionario_palavras}\n",
    "\n",
    "        for p in m:\n",
    "            if p in ocorrencias:\n",
    "                ocorrencias[p] += 1\n",
    "\n",
    "        x.append(ocorrencias)\n",
    "        \n",
    "    return pd.DataFrame(x)\n",
    "# --------------------------------------------------------------------------------\n",
    "df.text = df.text.str.lower().str.replace(r'[^\\w\\s]+', ' ').str.split()\n",
    "\n",
    "df_treino, df_teste = train_test_split(df, test_size = 0.2)\n",
    "\n",
    "mensagens = reduce(lambda x, y: x + y, df_treino.text)\n",
    "palavras_comuns = [i[0] for i in Counter(mensagens).most_common(100)]\n",
    "\n",
    "x_treino = conta_palavras(df_treino.text, palavras_comuns)\n",
    "x_teste = conta_palavras(df_teste.text, palavras_comuns)\n",
    "\n",
    "y_treino = df_treino.type\n",
    "y_teste = df_teste.type"
   ]
  },
  {
   "cell_type": "code",
   "execution_count": 3,
   "metadata": {},
   "outputs": [],
   "source": [
    "class RandomClassifier:\n",
    "\n",
    "    def __init__(self, n, algorithm, models = None, votes = None):\n",
    "        \n",
    "        self.n = n\n",
    "        self.algorithm = algorithm\n",
    "        self.models = models\n",
    "        self.votes = votes\n",
    "\n",
    "    def __repr__(self):\n",
    "        return f'Random Classifier com {self.n} modelos do tipo {self.algorithm}'\n",
    "    \n",
    "    def fit(self, x, y):\n",
    "        \n",
    "        exec(f\"self.models = [{self.algorithm}(random_state = randint(1, 1000)) for n in range(0, {self.n})]\")\n",
    "        self.models = [model.fit(x, y) for model in self.models] \n",
    "            \n",
    "    def predict(self, x):\n",
    "        self.votes = [mdl.predict(x) for mdl in self.models]\n",
    "        return mode(self.votes)[0][0][0]"
   ]
  },
  {
   "cell_type": "code",
   "execution_count": 4,
   "metadata": {},
   "outputs": [],
   "source": [
    "rc = RandomClassifier(3, 'SVC')"
   ]
  },
  {
   "cell_type": "code",
   "execution_count": 5,
   "metadata": {},
   "outputs": [
    {
     "data": {
      "text/plain": [
       "Random Classifier com 3 modelos do tipo SVC"
      ]
     },
     "execution_count": 5,
     "metadata": {},
     "output_type": "execute_result"
    }
   ],
   "source": [
    "rc"
   ]
  },
  {
   "cell_type": "code",
   "execution_count": 6,
   "metadata": {},
   "outputs": [],
   "source": [
    "rc.fit(x_treino, y_treino)"
   ]
  },
  {
   "cell_type": "code",
   "execution_count": 7,
   "metadata": {},
   "outputs": [
    {
     "data": {
      "text/plain": [
       "'ham'"
      ]
     },
     "execution_count": 7,
     "metadata": {},
     "output_type": "execute_result"
    }
   ],
   "source": [
    "rc.predict(x_teste.iloc[[0]])"
   ]
  },
  {
   "cell_type": "code",
   "execution_count": 8,
   "metadata": {},
   "outputs": [
    {
     "data": {
      "text/plain": [
       "[SVC(C=1.0, break_ties=False, cache_size=200, class_weight=None, coef0=0.0,\n",
       "     decision_function_shape='ovr', degree=3, gamma='scale', kernel='rbf',\n",
       "     max_iter=-1, probability=False, random_state=656, shrinking=True, tol=0.001,\n",
       "     verbose=False),\n",
       " SVC(C=1.0, break_ties=False, cache_size=200, class_weight=None, coef0=0.0,\n",
       "     decision_function_shape='ovr', degree=3, gamma='scale', kernel='rbf',\n",
       "     max_iter=-1, probability=False, random_state=486, shrinking=True, tol=0.001,\n",
       "     verbose=False),\n",
       " SVC(C=1.0, break_ties=False, cache_size=200, class_weight=None, coef0=0.0,\n",
       "     decision_function_shape='ovr', degree=3, gamma='scale', kernel='rbf',\n",
       "     max_iter=-1, probability=False, random_state=154, shrinking=True, tol=0.001,\n",
       "     verbose=False)]"
      ]
     },
     "execution_count": 8,
     "metadata": {},
     "output_type": "execute_result"
    }
   ],
   "source": [
    "rc.models"
   ]
  },
  {
   "cell_type": "code",
   "execution_count": 9,
   "metadata": {},
   "outputs": [
    {
     "data": {
      "text/plain": [
       "[array(['ham'], dtype=object),\n",
       " array(['ham'], dtype=object),\n",
       " array(['ham'], dtype=object)]"
      ]
     },
     "execution_count": 9,
     "metadata": {},
     "output_type": "execute_result"
    }
   ],
   "source": [
    "rc.votes"
   ]
  },
  {
   "cell_type": "code",
   "execution_count": null,
   "metadata": {},
   "outputs": [],
   "source": []
  }
 ],
 "metadata": {
  "kernelspec": {
   "display_name": "Python 3",
   "language": "python",
   "name": "python3"
  },
  "language_info": {
   "codemirror_mode": {
    "name": "ipython",
    "version": 3
   },
   "file_extension": ".py",
   "mimetype": "text/x-python",
   "name": "python",
   "nbconvert_exporter": "python",
   "pygments_lexer": "ipython3",
   "version": "3.7.4"
  }
 },
 "nbformat": 4,
 "nbformat_minor": 4
}
